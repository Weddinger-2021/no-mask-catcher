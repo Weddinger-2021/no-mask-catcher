{
 "metadata": {
  "language_info": {
   "codemirror_mode": {
    "name": "ipython",
    "version": 3
   },
   "file_extension": ".py",
   "mimetype": "text/x-python",
   "name": "python",
   "nbconvert_exporter": "python",
   "pygments_lexer": "ipython3",
   "version": "3.9.4"
  },
  "orig_nbformat": 2,
  "kernelspec": {
   "name": "pythonjvsc74a57bd00734dde2e7fa2ab29b7ca1965a1e497cf51095353e6b4dd865fe90a5b9a9f15e",
   "display_name": "Python 3.9.4 64-bit ('.venv': venv)"
  },
  "metadata": {
   "interpreter": {
    "hash": "0734dde2e7fa2ab29b7ca1965a1e497cf51095353e6b4dd865fe90a5b9a9f15e"
   }
  }
 },
 "nbformat": 4,
 "nbformat_minor": 2,
 "cells": [
  {
   "cell_type": "code",
   "execution_count": 19,
   "metadata": {},
   "outputs": [],
   "source": [
    "import tensorflow as tf\n",
    "import tensorflow.keras\n",
    "import pandas as pd\n",
    "import numpy as np\n",
    "import seaborn as sns\n",
    "import os\n",
    "from sklearn.utils import shuffle\n",
    "import matplotlib.pyplot as plt\n",
    "from tensorflow.keras.preprocessing.image import ImageDataGenerator, img_to_array, load_img\n",
    "import cv2\n",
    "from scipy.spatial import distance\n"
   ]
  },
  {
   "cell_type": "code",
   "execution_count": 20,
   "metadata": {},
   "outputs": [],
   "source": [
    "mask_path = \"./data_set/with_mask\"\n",
    "no_mask_path = \"./data_set/without_mask\"\n",
    "\n",
    "image_mask = []\n",
    "target_mask = []\n",
    "for i in os.listdir(mask_path):\n",
    "    pic = os.path.join(mask_path + \"/\", i)\n",
    "    image_mask.append(pic)\n",
    "    target_mask.append(\"mask\")   \n",
    "\n",
    "image_no_mask = []\n",
    "target_no_mask = []\n",
    "for i in os.listdir(no_mask_path):\n",
    "    pic = os.path.join(no_mask_path + \"/\", i)\n",
    "    image_no_mask.append(pic)\n",
    "    target_no_mask.append(\"without_mask\")\n",
    "\n",
    "mask = pd.DataFrame()\n",
    "mask[\"image\"] = image_mask\n",
    "mask[\"target\"] = target_mask\n",
    "\n",
    "no_mask = pd.DataFrame()\n",
    "no_mask[\"image\"] = image_no_mask\n",
    "no_mask[\"target\"] = target_no_mask\n",
    "\n",
    "data = pd.concat([mask, no_mask], axis = 0, ignore_index = True)\n",
    "data = shuffle(data)"
   ]
  },
  {
   "cell_type": "code",
   "execution_count": 21,
   "metadata": {},
   "outputs": [
    {
     "output_type": "stream",
     "name": "stderr",
     "text": [
      "/home/azooz-rr/LTUC/no-mask-catcher/.venv/lib/python3.9/site-packages/seaborn/_decorators.py:36: FutureWarning: Pass the following variable as a keyword arg: x. From version 0.12, the only valid positional argument will be `data`, and passing other arguments without an explicit keyword will result in an error or misinterpretation.\n",
      "  warnings.warn(\n",
      "Found 1100 validated image filenames belonging to 2 classes.\n",
      "Found 99 validated image filenames belonging to 2 classes.\n",
      "Found 175 validated image filenames belonging to 2 classes.\n"
     ]
    },
    {
     "output_type": "display_data",
     "data": {
      "text/plain": "<Figure size 432x288 with 1 Axes>",
      "image/svg+xml": "<?xml version=\"1.0\" encoding=\"utf-8\" standalone=\"no\"?>\n<!DOCTYPE svg PUBLIC \"-//W3C//DTD SVG 1.1//EN\"\n  \"http://www.w3.org/Graphics/SVG/1.1/DTD/svg11.dtd\">\n<svg height=\"262.474375pt\" version=\"1.1\" viewBox=\"0 0 388.965625 262.474375\" width=\"388.965625pt\" xmlns=\"http://www.w3.org/2000/svg\" xmlns:xlink=\"http://www.w3.org/1999/xlink\">\n <metadata>\n  <rdf:RDF xmlns:cc=\"http://creativecommons.org/ns#\" xmlns:dc=\"http://purl.org/dc/elements/1.1/\" xmlns:rdf=\"http://www.w3.org/1999/02/22-rdf-syntax-ns#\">\n   <cc:Work>\n    <dc:type rdf:resource=\"http://purl.org/dc/dcmitype/StillImage\"/>\n    <dc:date>2021-06-07T21:04:52.276927</dc:date>\n    <dc:format>image/svg+xml</dc:format>\n    <dc:creator>\n     <cc:Agent>\n      <dc:title>Matplotlib v3.4.2, https://matplotlib.org/</dc:title>\n     </cc:Agent>\n    </dc:creator>\n   </cc:Work>\n  </rdf:RDF>\n </metadata>\n <defs>\n  <style type=\"text/css\">*{stroke-linecap:butt;stroke-linejoin:round;}</style>\n </defs>\n <g id=\"figure_1\">\n  <g id=\"patch_1\">\n   <path d=\"M -0 262.474375 \nL 388.965625 262.474375 \nL 388.965625 0 \nL -0 0 \nz\n\" style=\"fill:none;\"/>\n  </g>\n  <g id=\"axes_1\">\n   <g id=\"patch_2\">\n    <path d=\"M 46.965625 224.64 \nL 381.765625 224.64 \nL 381.765625 7.2 \nL 46.965625 7.2 \nz\n\" style=\"fill:#ffffff;\"/>\n   </g>\n   <g id=\"patch_3\">\n    <path clip-path=\"url(#pa1474345a3)\" d=\"M 63.705625 224.64 \nL 197.625625 224.64 \nL 197.625625 17.554286 \nL 63.705625 17.554286 \nz\n\" style=\"fill:#3274a1;\"/>\n   </g>\n   <g id=\"patch_4\">\n    <path clip-path=\"url(#pa1474345a3)\" d=\"M 231.105625 224.64 \nL 365.025625 224.64 \nL 365.025625 18.754783 \nL 231.105625 18.754783 \nz\n\" style=\"fill:#e1812c;\"/>\n   </g>\n   <g id=\"matplotlib.axis_1\">\n    <g id=\"xtick_1\">\n     <g id=\"line2d_1\">\n      <defs>\n       <path d=\"M 0 0 \nL 0 3.5 \n\" id=\"m0c7642fefc\" style=\"stroke:#000000;stroke-width:0.8;\"/>\n      </defs>\n      <g>\n       <use style=\"stroke:#000000;stroke-width:0.8;\" x=\"130.665625\" xlink:href=\"#m0c7642fefc\" y=\"224.64\"/>\n      </g>\n     </g>\n     <g id=\"text_1\">\n      <!-- mask -->\n      <g transform=\"translate(117.23125 239.238438)scale(0.1 -0.1)\">\n       <defs>\n        <path d=\"M 3328 2828 \nQ 3544 3216 3844 3400 \nQ 4144 3584 4550 3584 \nQ 5097 3584 5394 3201 \nQ 5691 2819 5691 2113 \nL 5691 0 \nL 5113 0 \nL 5113 2094 \nQ 5113 2597 4934 2840 \nQ 4756 3084 4391 3084 \nQ 3944 3084 3684 2787 \nQ 3425 2491 3425 1978 \nL 3425 0 \nL 2847 0 \nL 2847 2094 \nQ 2847 2600 2669 2842 \nQ 2491 3084 2119 3084 \nQ 1678 3084 1418 2786 \nQ 1159 2488 1159 1978 \nL 1159 0 \nL 581 0 \nL 581 3500 \nL 1159 3500 \nL 1159 2956 \nQ 1356 3278 1631 3431 \nQ 1906 3584 2284 3584 \nQ 2666 3584 2933 3390 \nQ 3200 3197 3328 2828 \nz\n\" id=\"DejaVuSans-6d\" transform=\"scale(0.015625)\"/>\n        <path d=\"M 2194 1759 \nQ 1497 1759 1228 1600 \nQ 959 1441 959 1056 \nQ 959 750 1161 570 \nQ 1363 391 1709 391 \nQ 2188 391 2477 730 \nQ 2766 1069 2766 1631 \nL 2766 1759 \nL 2194 1759 \nz\nM 3341 1997 \nL 3341 0 \nL 2766 0 \nL 2766 531 \nQ 2569 213 2275 61 \nQ 1981 -91 1556 -91 \nQ 1019 -91 701 211 \nQ 384 513 384 1019 \nQ 384 1609 779 1909 \nQ 1175 2209 1959 2209 \nL 2766 2209 \nL 2766 2266 \nQ 2766 2663 2505 2880 \nQ 2244 3097 1772 3097 \nQ 1472 3097 1187 3025 \nQ 903 2953 641 2809 \nL 641 3341 \nQ 956 3463 1253 3523 \nQ 1550 3584 1831 3584 \nQ 2591 3584 2966 3190 \nQ 3341 2797 3341 1997 \nz\n\" id=\"DejaVuSans-61\" transform=\"scale(0.015625)\"/>\n        <path d=\"M 2834 3397 \nL 2834 2853 \nQ 2591 2978 2328 3040 \nQ 2066 3103 1784 3103 \nQ 1356 3103 1142 2972 \nQ 928 2841 928 2578 \nQ 928 2378 1081 2264 \nQ 1234 2150 1697 2047 \nL 1894 2003 \nQ 2506 1872 2764 1633 \nQ 3022 1394 3022 966 \nQ 3022 478 2636 193 \nQ 2250 -91 1575 -91 \nQ 1294 -91 989 -36 \nQ 684 19 347 128 \nL 347 722 \nQ 666 556 975 473 \nQ 1284 391 1588 391 \nQ 1994 391 2212 530 \nQ 2431 669 2431 922 \nQ 2431 1156 2273 1281 \nQ 2116 1406 1581 1522 \nL 1381 1569 \nQ 847 1681 609 1914 \nQ 372 2147 372 2553 \nQ 372 3047 722 3315 \nQ 1072 3584 1716 3584 \nQ 2034 3584 2315 3537 \nQ 2597 3491 2834 3397 \nz\n\" id=\"DejaVuSans-73\" transform=\"scale(0.015625)\"/>\n        <path d=\"M 581 4863 \nL 1159 4863 \nL 1159 1991 \nL 2875 3500 \nL 3609 3500 \nL 1753 1863 \nL 3688 0 \nL 2938 0 \nL 1159 1709 \nL 1159 0 \nL 581 0 \nL 581 4863 \nz\n\" id=\"DejaVuSans-6b\" transform=\"scale(0.015625)\"/>\n       </defs>\n       <use xlink:href=\"#DejaVuSans-6d\"/>\n       <use x=\"97.412109\" xlink:href=\"#DejaVuSans-61\"/>\n       <use x=\"158.691406\" xlink:href=\"#DejaVuSans-73\"/>\n       <use x=\"210.791016\" xlink:href=\"#DejaVuSans-6b\"/>\n      </g>\n     </g>\n    </g>\n    <g id=\"xtick_2\">\n     <g id=\"line2d_2\">\n      <g>\n       <use style=\"stroke:#000000;stroke-width:0.8;\" x=\"298.065625\" xlink:href=\"#m0c7642fefc\" y=\"224.64\"/>\n      </g>\n     </g>\n     <g id=\"text_2\">\n      <!-- without_mask -->\n      <g transform=\"translate(263.335938 239.238438)scale(0.1 -0.1)\">\n       <defs>\n        <path d=\"M 269 3500 \nL 844 3500 \nL 1563 769 \nL 2278 3500 \nL 2956 3500 \nL 3675 769 \nL 4391 3500 \nL 4966 3500 \nL 4050 0 \nL 3372 0 \nL 2619 2869 \nL 1863 0 \nL 1184 0 \nL 269 3500 \nz\n\" id=\"DejaVuSans-77\" transform=\"scale(0.015625)\"/>\n        <path d=\"M 603 3500 \nL 1178 3500 \nL 1178 0 \nL 603 0 \nL 603 3500 \nz\nM 603 4863 \nL 1178 4863 \nL 1178 4134 \nL 603 4134 \nL 603 4863 \nz\n\" id=\"DejaVuSans-69\" transform=\"scale(0.015625)\"/>\n        <path d=\"M 1172 4494 \nL 1172 3500 \nL 2356 3500 \nL 2356 3053 \nL 1172 3053 \nL 1172 1153 \nQ 1172 725 1289 603 \nQ 1406 481 1766 481 \nL 2356 481 \nL 2356 0 \nL 1766 0 \nQ 1100 0 847 248 \nQ 594 497 594 1153 \nL 594 3053 \nL 172 3053 \nL 172 3500 \nL 594 3500 \nL 594 4494 \nL 1172 4494 \nz\n\" id=\"DejaVuSans-74\" transform=\"scale(0.015625)\"/>\n        <path d=\"M 3513 2113 \nL 3513 0 \nL 2938 0 \nL 2938 2094 \nQ 2938 2591 2744 2837 \nQ 2550 3084 2163 3084 \nQ 1697 3084 1428 2787 \nQ 1159 2491 1159 1978 \nL 1159 0 \nL 581 0 \nL 581 4863 \nL 1159 4863 \nL 1159 2956 \nQ 1366 3272 1645 3428 \nQ 1925 3584 2291 3584 \nQ 2894 3584 3203 3211 \nQ 3513 2838 3513 2113 \nz\n\" id=\"DejaVuSans-68\" transform=\"scale(0.015625)\"/>\n        <path d=\"M 1959 3097 \nQ 1497 3097 1228 2736 \nQ 959 2375 959 1747 \nQ 959 1119 1226 758 \nQ 1494 397 1959 397 \nQ 2419 397 2687 759 \nQ 2956 1122 2956 1747 \nQ 2956 2369 2687 2733 \nQ 2419 3097 1959 3097 \nz\nM 1959 3584 \nQ 2709 3584 3137 3096 \nQ 3566 2609 3566 1747 \nQ 3566 888 3137 398 \nQ 2709 -91 1959 -91 \nQ 1206 -91 779 398 \nQ 353 888 353 1747 \nQ 353 2609 779 3096 \nQ 1206 3584 1959 3584 \nz\n\" id=\"DejaVuSans-6f\" transform=\"scale(0.015625)\"/>\n        <path d=\"M 544 1381 \nL 544 3500 \nL 1119 3500 \nL 1119 1403 \nQ 1119 906 1312 657 \nQ 1506 409 1894 409 \nQ 2359 409 2629 706 \nQ 2900 1003 2900 1516 \nL 2900 3500 \nL 3475 3500 \nL 3475 0 \nL 2900 0 \nL 2900 538 \nQ 2691 219 2414 64 \nQ 2138 -91 1772 -91 \nQ 1169 -91 856 284 \nQ 544 659 544 1381 \nz\nM 1991 3584 \nL 1991 3584 \nz\n\" id=\"DejaVuSans-75\" transform=\"scale(0.015625)\"/>\n        <path d=\"M 3263 -1063 \nL 3263 -1509 \nL -63 -1509 \nL -63 -1063 \nL 3263 -1063 \nz\n\" id=\"DejaVuSans-5f\" transform=\"scale(0.015625)\"/>\n       </defs>\n       <use xlink:href=\"#DejaVuSans-77\"/>\n       <use x=\"81.787109\" xlink:href=\"#DejaVuSans-69\"/>\n       <use x=\"109.570312\" xlink:href=\"#DejaVuSans-74\"/>\n       <use x=\"148.779297\" xlink:href=\"#DejaVuSans-68\"/>\n       <use x=\"212.158203\" xlink:href=\"#DejaVuSans-6f\"/>\n       <use x=\"273.339844\" xlink:href=\"#DejaVuSans-75\"/>\n       <use x=\"336.71875\" xlink:href=\"#DejaVuSans-74\"/>\n       <use x=\"375.927734\" xlink:href=\"#DejaVuSans-5f\"/>\n       <use x=\"425.927734\" xlink:href=\"#DejaVuSans-6d\"/>\n       <use x=\"523.339844\" xlink:href=\"#DejaVuSans-61\"/>\n       <use x=\"584.619141\" xlink:href=\"#DejaVuSans-73\"/>\n       <use x=\"636.71875\" xlink:href=\"#DejaVuSans-6b\"/>\n      </g>\n     </g>\n    </g>\n    <g id=\"text_3\">\n     <!-- target -->\n     <g transform=\"translate(199.1625 253.194688)scale(0.1 -0.1)\">\n      <defs>\n       <path d=\"M 2631 2963 \nQ 2534 3019 2420 3045 \nQ 2306 3072 2169 3072 \nQ 1681 3072 1420 2755 \nQ 1159 2438 1159 1844 \nL 1159 0 \nL 581 0 \nL 581 3500 \nL 1159 3500 \nL 1159 2956 \nQ 1341 3275 1631 3429 \nQ 1922 3584 2338 3584 \nQ 2397 3584 2469 3576 \nQ 2541 3569 2628 3553 \nL 2631 2963 \nz\n\" id=\"DejaVuSans-72\" transform=\"scale(0.015625)\"/>\n       <path d=\"M 2906 1791 \nQ 2906 2416 2648 2759 \nQ 2391 3103 1925 3103 \nQ 1463 3103 1205 2759 \nQ 947 2416 947 1791 \nQ 947 1169 1205 825 \nQ 1463 481 1925 481 \nQ 2391 481 2648 825 \nQ 2906 1169 2906 1791 \nz\nM 3481 434 \nQ 3481 -459 3084 -895 \nQ 2688 -1331 1869 -1331 \nQ 1566 -1331 1297 -1286 \nQ 1028 -1241 775 -1147 \nL 775 -588 \nQ 1028 -725 1275 -790 \nQ 1522 -856 1778 -856 \nQ 2344 -856 2625 -561 \nQ 2906 -266 2906 331 \nL 2906 616 \nQ 2728 306 2450 153 \nQ 2172 0 1784 0 \nQ 1141 0 747 490 \nQ 353 981 353 1791 \nQ 353 2603 747 3093 \nQ 1141 3584 1784 3584 \nQ 2172 3584 2450 3431 \nQ 2728 3278 2906 2969 \nL 2906 3500 \nL 3481 3500 \nL 3481 434 \nz\n\" id=\"DejaVuSans-67\" transform=\"scale(0.015625)\"/>\n       <path d=\"M 3597 1894 \nL 3597 1613 \nL 953 1613 \nQ 991 1019 1311 708 \nQ 1631 397 2203 397 \nQ 2534 397 2845 478 \nQ 3156 559 3463 722 \nL 3463 178 \nQ 3153 47 2828 -22 \nQ 2503 -91 2169 -91 \nQ 1331 -91 842 396 \nQ 353 884 353 1716 \nQ 353 2575 817 3079 \nQ 1281 3584 2069 3584 \nQ 2775 3584 3186 3129 \nQ 3597 2675 3597 1894 \nz\nM 3022 2063 \nQ 3016 2534 2758 2815 \nQ 2500 3097 2075 3097 \nQ 1594 3097 1305 2825 \nQ 1016 2553 972 2059 \nL 3022 2063 \nz\n\" id=\"DejaVuSans-65\" transform=\"scale(0.015625)\"/>\n      </defs>\n      <use xlink:href=\"#DejaVuSans-74\"/>\n      <use x=\"39.208984\" xlink:href=\"#DejaVuSans-61\"/>\n      <use x=\"100.488281\" xlink:href=\"#DejaVuSans-72\"/>\n      <use x=\"139.851562\" xlink:href=\"#DejaVuSans-67\"/>\n      <use x=\"203.328125\" xlink:href=\"#DejaVuSans-65\"/>\n      <use x=\"264.851562\" xlink:href=\"#DejaVuSans-74\"/>\n     </g>\n    </g>\n   </g>\n   <g id=\"matplotlib.axis_2\">\n    <g id=\"ytick_1\">\n     <g id=\"line2d_3\">\n      <defs>\n       <path d=\"M 0 0 \nL -3.5 0 \n\" id=\"m58e771c8a2\" style=\"stroke:#000000;stroke-width:0.8;\"/>\n      </defs>\n      <g>\n       <use style=\"stroke:#000000;stroke-width:0.8;\" x=\"46.965625\" xlink:href=\"#m58e771c8a2\" y=\"224.64\"/>\n      </g>\n     </g>\n     <g id=\"text_4\">\n      <!-- 0 -->\n      <g transform=\"translate(33.603125 228.439219)scale(0.1 -0.1)\">\n       <defs>\n        <path d=\"M 2034 4250 \nQ 1547 4250 1301 3770 \nQ 1056 3291 1056 2328 \nQ 1056 1369 1301 889 \nQ 1547 409 2034 409 \nQ 2525 409 2770 889 \nQ 3016 1369 3016 2328 \nQ 3016 3291 2770 3770 \nQ 2525 4250 2034 4250 \nz\nM 2034 4750 \nQ 2819 4750 3233 4129 \nQ 3647 3509 3647 2328 \nQ 3647 1150 3233 529 \nQ 2819 -91 2034 -91 \nQ 1250 -91 836 529 \nQ 422 1150 422 2328 \nQ 422 3509 836 4129 \nQ 1250 4750 2034 4750 \nz\n\" id=\"DejaVuSans-30\" transform=\"scale(0.015625)\"/>\n       </defs>\n       <use xlink:href=\"#DejaVuSans-30\"/>\n      </g>\n     </g>\n    </g>\n    <g id=\"ytick_2\">\n     <g id=\"line2d_4\">\n      <g>\n       <use style=\"stroke:#000000;stroke-width:0.8;\" x=\"46.965625\" xlink:href=\"#m58e771c8a2\" y=\"194.627578\"/>\n      </g>\n     </g>\n     <g id=\"text_5\">\n      <!-- 100 -->\n      <g transform=\"translate(20.878125 198.426796)scale(0.1 -0.1)\">\n       <defs>\n        <path d=\"M 794 531 \nL 1825 531 \nL 1825 4091 \nL 703 3866 \nL 703 4441 \nL 1819 4666 \nL 2450 4666 \nL 2450 531 \nL 3481 531 \nL 3481 0 \nL 794 0 \nL 794 531 \nz\n\" id=\"DejaVuSans-31\" transform=\"scale(0.015625)\"/>\n       </defs>\n       <use xlink:href=\"#DejaVuSans-31\"/>\n       <use x=\"63.623047\" xlink:href=\"#DejaVuSans-30\"/>\n       <use x=\"127.246094\" xlink:href=\"#DejaVuSans-30\"/>\n      </g>\n     </g>\n    </g>\n    <g id=\"ytick_3\">\n     <g id=\"line2d_5\">\n      <g>\n       <use style=\"stroke:#000000;stroke-width:0.8;\" x=\"46.965625\" xlink:href=\"#m58e771c8a2\" y=\"164.615155\"/>\n      </g>\n     </g>\n     <g id=\"text_6\">\n      <!-- 200 -->\n      <g transform=\"translate(20.878125 168.414374)scale(0.1 -0.1)\">\n       <defs>\n        <path d=\"M 1228 531 \nL 3431 531 \nL 3431 0 \nL 469 0 \nL 469 531 \nQ 828 903 1448 1529 \nQ 2069 2156 2228 2338 \nQ 2531 2678 2651 2914 \nQ 2772 3150 2772 3378 \nQ 2772 3750 2511 3984 \nQ 2250 4219 1831 4219 \nQ 1534 4219 1204 4116 \nQ 875 4013 500 3803 \nL 500 4441 \nQ 881 4594 1212 4672 \nQ 1544 4750 1819 4750 \nQ 2544 4750 2975 4387 \nQ 3406 4025 3406 3419 \nQ 3406 3131 3298 2873 \nQ 3191 2616 2906 2266 \nQ 2828 2175 2409 1742 \nQ 1991 1309 1228 531 \nz\n\" id=\"DejaVuSans-32\" transform=\"scale(0.015625)\"/>\n       </defs>\n       <use xlink:href=\"#DejaVuSans-32\"/>\n       <use x=\"63.623047\" xlink:href=\"#DejaVuSans-30\"/>\n       <use x=\"127.246094\" xlink:href=\"#DejaVuSans-30\"/>\n      </g>\n     </g>\n    </g>\n    <g id=\"ytick_4\">\n     <g id=\"line2d_6\">\n      <g>\n       <use style=\"stroke:#000000;stroke-width:0.8;\" x=\"46.965625\" xlink:href=\"#m58e771c8a2\" y=\"134.602733\"/>\n      </g>\n     </g>\n     <g id=\"text_7\">\n      <!-- 300 -->\n      <g transform=\"translate(20.878125 138.401952)scale(0.1 -0.1)\">\n       <defs>\n        <path d=\"M 2597 2516 \nQ 3050 2419 3304 2112 \nQ 3559 1806 3559 1356 \nQ 3559 666 3084 287 \nQ 2609 -91 1734 -91 \nQ 1441 -91 1130 -33 \nQ 819 25 488 141 \nL 488 750 \nQ 750 597 1062 519 \nQ 1375 441 1716 441 \nQ 2309 441 2620 675 \nQ 2931 909 2931 1356 \nQ 2931 1769 2642 2001 \nQ 2353 2234 1838 2234 \nL 1294 2234 \nL 1294 2753 \nL 1863 2753 \nQ 2328 2753 2575 2939 \nQ 2822 3125 2822 3475 \nQ 2822 3834 2567 4026 \nQ 2313 4219 1838 4219 \nQ 1578 4219 1281 4162 \nQ 984 4106 628 3988 \nL 628 4550 \nQ 988 4650 1302 4700 \nQ 1616 4750 1894 4750 \nQ 2613 4750 3031 4423 \nQ 3450 4097 3450 3541 \nQ 3450 3153 3228 2886 \nQ 3006 2619 2597 2516 \nz\n\" id=\"DejaVuSans-33\" transform=\"scale(0.015625)\"/>\n       </defs>\n       <use xlink:href=\"#DejaVuSans-33\"/>\n       <use x=\"63.623047\" xlink:href=\"#DejaVuSans-30\"/>\n       <use x=\"127.246094\" xlink:href=\"#DejaVuSans-30\"/>\n      </g>\n     </g>\n    </g>\n    <g id=\"ytick_5\">\n     <g id=\"line2d_7\">\n      <g>\n       <use style=\"stroke:#000000;stroke-width:0.8;\" x=\"46.965625\" xlink:href=\"#m58e771c8a2\" y=\"104.590311\"/>\n      </g>\n     </g>\n     <g id=\"text_8\">\n      <!-- 400 -->\n      <g transform=\"translate(20.878125 108.389529)scale(0.1 -0.1)\">\n       <defs>\n        <path d=\"M 2419 4116 \nL 825 1625 \nL 2419 1625 \nL 2419 4116 \nz\nM 2253 4666 \nL 3047 4666 \nL 3047 1625 \nL 3713 1625 \nL 3713 1100 \nL 3047 1100 \nL 3047 0 \nL 2419 0 \nL 2419 1100 \nL 313 1100 \nL 313 1709 \nL 2253 4666 \nz\n\" id=\"DejaVuSans-34\" transform=\"scale(0.015625)\"/>\n       </defs>\n       <use xlink:href=\"#DejaVuSans-34\"/>\n       <use x=\"63.623047\" xlink:href=\"#DejaVuSans-30\"/>\n       <use x=\"127.246094\" xlink:href=\"#DejaVuSans-30\"/>\n      </g>\n     </g>\n    </g>\n    <g id=\"ytick_6\">\n     <g id=\"line2d_8\">\n      <g>\n       <use style=\"stroke:#000000;stroke-width:0.8;\" x=\"46.965625\" xlink:href=\"#m58e771c8a2\" y=\"74.577888\"/>\n      </g>\n     </g>\n     <g id=\"text_9\">\n      <!-- 500 -->\n      <g transform=\"translate(20.878125 78.377107)scale(0.1 -0.1)\">\n       <defs>\n        <path d=\"M 691 4666 \nL 3169 4666 \nL 3169 4134 \nL 1269 4134 \nL 1269 2991 \nQ 1406 3038 1543 3061 \nQ 1681 3084 1819 3084 \nQ 2600 3084 3056 2656 \nQ 3513 2228 3513 1497 \nQ 3513 744 3044 326 \nQ 2575 -91 1722 -91 \nQ 1428 -91 1123 -41 \nQ 819 9 494 109 \nL 494 744 \nQ 775 591 1075 516 \nQ 1375 441 1709 441 \nQ 2250 441 2565 725 \nQ 2881 1009 2881 1497 \nQ 2881 1984 2565 2268 \nQ 2250 2553 1709 2553 \nQ 1456 2553 1204 2497 \nQ 953 2441 691 2322 \nL 691 4666 \nz\n\" id=\"DejaVuSans-35\" transform=\"scale(0.015625)\"/>\n       </defs>\n       <use xlink:href=\"#DejaVuSans-35\"/>\n       <use x=\"63.623047\" xlink:href=\"#DejaVuSans-30\"/>\n       <use x=\"127.246094\" xlink:href=\"#DejaVuSans-30\"/>\n      </g>\n     </g>\n    </g>\n    <g id=\"ytick_7\">\n     <g id=\"line2d_9\">\n      <g>\n       <use style=\"stroke:#000000;stroke-width:0.8;\" x=\"46.965625\" xlink:href=\"#m58e771c8a2\" y=\"44.565466\"/>\n      </g>\n     </g>\n     <g id=\"text_10\">\n      <!-- 600 -->\n      <g transform=\"translate(20.878125 48.364685)scale(0.1 -0.1)\">\n       <defs>\n        <path d=\"M 2113 2584 \nQ 1688 2584 1439 2293 \nQ 1191 2003 1191 1497 \nQ 1191 994 1439 701 \nQ 1688 409 2113 409 \nQ 2538 409 2786 701 \nQ 3034 994 3034 1497 \nQ 3034 2003 2786 2293 \nQ 2538 2584 2113 2584 \nz\nM 3366 4563 \nL 3366 3988 \nQ 3128 4100 2886 4159 \nQ 2644 4219 2406 4219 \nQ 1781 4219 1451 3797 \nQ 1122 3375 1075 2522 \nQ 1259 2794 1537 2939 \nQ 1816 3084 2150 3084 \nQ 2853 3084 3261 2657 \nQ 3669 2231 3669 1497 \nQ 3669 778 3244 343 \nQ 2819 -91 2113 -91 \nQ 1303 -91 875 529 \nQ 447 1150 447 2328 \nQ 447 3434 972 4092 \nQ 1497 4750 2381 4750 \nQ 2619 4750 2861 4703 \nQ 3103 4656 3366 4563 \nz\n\" id=\"DejaVuSans-36\" transform=\"scale(0.015625)\"/>\n       </defs>\n       <use xlink:href=\"#DejaVuSans-36\"/>\n       <use x=\"63.623047\" xlink:href=\"#DejaVuSans-30\"/>\n       <use x=\"127.246094\" xlink:href=\"#DejaVuSans-30\"/>\n      </g>\n     </g>\n    </g>\n    <g id=\"ytick_8\">\n     <g id=\"line2d_10\">\n      <g>\n       <use style=\"stroke:#000000;stroke-width:0.8;\" x=\"46.965625\" xlink:href=\"#m58e771c8a2\" y=\"14.553043\"/>\n      </g>\n     </g>\n     <g id=\"text_11\">\n      <!-- 700 -->\n      <g transform=\"translate(20.878125 18.352262)scale(0.1 -0.1)\">\n       <defs>\n        <path d=\"M 525 4666 \nL 3525 4666 \nL 3525 4397 \nL 1831 0 \nL 1172 0 \nL 2766 4134 \nL 525 4134 \nL 525 4666 \nz\n\" id=\"DejaVuSans-37\" transform=\"scale(0.015625)\"/>\n       </defs>\n       <use xlink:href=\"#DejaVuSans-37\"/>\n       <use x=\"63.623047\" xlink:href=\"#DejaVuSans-30\"/>\n       <use x=\"127.246094\" xlink:href=\"#DejaVuSans-30\"/>\n      </g>\n     </g>\n    </g>\n    <g id=\"text_12\">\n     <!-- count -->\n     <g transform=\"translate(14.798438 130.02625)rotate(-90)scale(0.1 -0.1)\">\n      <defs>\n       <path d=\"M 3122 3366 \nL 3122 2828 \nQ 2878 2963 2633 3030 \nQ 2388 3097 2138 3097 \nQ 1578 3097 1268 2742 \nQ 959 2388 959 1747 \nQ 959 1106 1268 751 \nQ 1578 397 2138 397 \nQ 2388 397 2633 464 \nQ 2878 531 3122 666 \nL 3122 134 \nQ 2881 22 2623 -34 \nQ 2366 -91 2075 -91 \nQ 1284 -91 818 406 \nQ 353 903 353 1747 \nQ 353 2603 823 3093 \nQ 1294 3584 2113 3584 \nQ 2378 3584 2631 3529 \nQ 2884 3475 3122 3366 \nz\n\" id=\"DejaVuSans-63\" transform=\"scale(0.015625)\"/>\n       <path d=\"M 3513 2113 \nL 3513 0 \nL 2938 0 \nL 2938 2094 \nQ 2938 2591 2744 2837 \nQ 2550 3084 2163 3084 \nQ 1697 3084 1428 2787 \nQ 1159 2491 1159 1978 \nL 1159 0 \nL 581 0 \nL 581 3500 \nL 1159 3500 \nL 1159 2956 \nQ 1366 3272 1645 3428 \nQ 1925 3584 2291 3584 \nQ 2894 3584 3203 3211 \nQ 3513 2838 3513 2113 \nz\n\" id=\"DejaVuSans-6e\" transform=\"scale(0.015625)\"/>\n      </defs>\n      <use xlink:href=\"#DejaVuSans-63\"/>\n      <use x=\"54.980469\" xlink:href=\"#DejaVuSans-6f\"/>\n      <use x=\"116.162109\" xlink:href=\"#DejaVuSans-75\"/>\n      <use x=\"179.541016\" xlink:href=\"#DejaVuSans-6e\"/>\n      <use x=\"242.919922\" xlink:href=\"#DejaVuSans-74\"/>\n     </g>\n    </g>\n   </g>\n   <g id=\"patch_5\">\n    <path d=\"M 46.965625 224.64 \nL 46.965625 7.2 \n\" style=\"fill:none;stroke:#000000;stroke-linecap:square;stroke-linejoin:miter;stroke-width:0.8;\"/>\n   </g>\n   <g id=\"patch_6\">\n    <path d=\"M 381.765625 224.64 \nL 381.765625 7.2 \n\" style=\"fill:none;stroke:#000000;stroke-linecap:square;stroke-linejoin:miter;stroke-width:0.8;\"/>\n   </g>\n   <g id=\"patch_7\">\n    <path d=\"M 46.965625 224.64 \nL 381.765625 224.64 \n\" style=\"fill:none;stroke:#000000;stroke-linecap:square;stroke-linejoin:miter;stroke-width:0.8;\"/>\n   </g>\n   <g id=\"patch_8\">\n    <path d=\"M 46.965625 7.2 \nL 381.765625 7.2 \n\" style=\"fill:none;stroke:#000000;stroke-linecap:square;stroke-linejoin:miter;stroke-width:0.8;\"/>\n   </g>\n  </g>\n </g>\n <defs>\n  <clipPath id=\"pa1474345a3\">\n   <rect height=\"217.44\" width=\"334.8\" x=\"46.965625\" y=\"7.2\"/>\n  </clipPath>\n </defs>\n</svg>\n",
      "image/png": "[encoded data removed]"
     },
     "metadata": {
      "needs_background": "light"
     }
    }
   ],
   "source": [
    "sns.countplot(data[\"target\"])\n",
    "\n",
    "\n",
    "train = data.iloc[0:1100, ]\n",
    "val = data.iloc[1101:1200, ]\n",
    "test = data.iloc[1201:, ]\n",
    "\n",
    "train_gen = ImageDataGenerator(\n",
    "                rescale = 1./255,\n",
    "                rotation_range = 40,\n",
    "                width_shift_range = 0.2,\n",
    "                height_shift_range = 0.2,\n",
    "                shear_range = 0.2,\n",
    "                zoom_range = 0.2,\n",
    "                horizontal_flip = True,\n",
    "                fill_mode = \"nearest\")\n",
    "\n",
    "train_generator = train_gen.flow_from_dataframe(\n",
    "                    dataframe = train,\n",
    "                    x_col = \"image\",\n",
    "                    y_col = \"target\",\n",
    "                    target_size = (150, 150),\n",
    "                    batch_size = 32,\n",
    "                    class_mode = \"binary\")\n",
    "\n",
    "\n",
    "\n",
    "\n",
    "val_gen = ImageDataGenerator(rescale = 1./255)\n",
    "\n",
    "val_generator = val_gen.flow_from_dataframe(\n",
    "                dataframe = val,\n",
    "                x_col = \"image\",\n",
    "                y_col = \"target\",\n",
    "                target_size = (150, 150),\n",
    "                batch_size = 32,\n",
    "                class_mode = \"binary\")\n",
    "\n",
    "\n",
    "\n",
    "test_datagen = ImageDataGenerator(rescale = 1./255)\n",
    "\n",
    "test_generator = test_datagen.flow_from_dataframe(\n",
    "                dataframe = test,\n",
    "                x_col = \"image\",\n",
    "                y_col = \"target\",\n",
    "                target_size = (150, 150),\n",
    "                class_mode = \"binary\",\n",
    "                batch_size = 32)\n",
    "\n",
    "\n",
    "\n",
    "\n",
    "# print(\"Train Seti:\",\"\\n\",train[\"target\"].value_counts(), \"\\n\"\n",
    "#       \"Test Seti: \", \"\\n\",test[\"target\"].value_counts(),\n",
    "#       \"\\n\"\"Validation Seti: \",\"\\n\", val[\"target\"].value_counts())\n",
    "\n",
    "# plt.figure(figsize=(12,8))\n",
    "\n",
    "# img = load_img(mask[\"image\"][8])\n",
    "# plt.imshow(img)\n",
    "# plt.title(\"With Mask\", color = \"green\", size = 14)\n",
    "# plt.grid(color='#999999', linestyle='-')\n",
    "# plt.show()\n",
    "\n",
    "\n",
    "# plt.figure(figsize=(12,8))\n",
    "\n",
    "# img = load_img(no_mask[\"image\"][100])\n",
    "# plt.imshow(img)\n",
    "# plt.title(\"Without Mask\", color = \"green\", size = 14)\n",
    "# plt.grid(color='#999999', linestyle='-')\n",
    "\n"
   ]
  },
  {
   "cell_type": "code",
   "execution_count": 23,
   "metadata": {},
   "outputs": [],
   "source": [
    "from tensorflow.keras import layers, models,optimizers\n",
    "from tensorflow.keras.applications.vgg19 import VGG19, preprocess_input\n",
    "\n"
   ]
  },
  {
   "cell_type": "code",
   "execution_count": 25,
   "metadata": {},
   "outputs": [
    {
     "output_type": "stream",
     "name": "stdout",
     "text": [
      "Model: \"sequential_2\"\n_________________________________________________________________\nLayer (type)                 Output Shape              Param #   \n=================================================================\nvgg19 (Functional)           (None, 4, 4, 512)         20024384  \n_________________________________________________________________\nflatten_2 (Flatten)          (None, 8192)              0         \n_________________________________________________________________\ndense_2 (Dense)              (None, 1)                 8193      \n=================================================================\nTotal params: 20,032,577\nTrainable params: 8,193\nNon-trainable params: 20,024,384\n_________________________________________________________________\n"
     ]
    }
   ],
   "source": [
    "#### later  8/6/2021\n",
    "vgg19 = VGG19(weights='imagenet',include_top=False,input_shape=(128,128,3))\n",
    "\n",
    "for layer in vgg19.layers:\n",
    "    layer.trainable = False\n",
    "    \n",
    "model = models.Sequential()\n",
    "model.add(vgg19)\n",
    "model.add(layers.Flatten())\n",
    "model.add(layers.Dense(1,activation='sigmoid'))\n",
    "model.summary()"
   ]
  },
  {
   "cell_type": "code",
   "execution_count": 26,
   "metadata": {},
   "outputs": [
    {
     "output_type": "stream",
     "name": "stderr",
     "text": [
      "/home/azooz-rr/LTUC/no-mask-catcher/.venv/lib/python3.9/site-packages/tensorflow/python/keras/optimizer_v2/optimizer_v2.py:374: UserWarning: The `lr` argument is deprecated, use `learning_rate` instead.\n  warnings.warn(\n"
     ]
    }
   ],
   "source": [
    "model.compile(loss = \"binary_crossentropy\",\n",
    "             optimizer = optimizers.RMSprop(lr = 1e-4),\n",
    "             metrics = [\"acc\"])"
   ]
  },
  {
   "cell_type": "code",
   "execution_count": 27,
   "metadata": {},
   "outputs": [
    {
     "output_type": "stream",
     "name": "stdout",
     "text": [
      "Epoch 1/60\n",
      "1/1 [==============================] - 10s 10s/step - loss: 0.7145 - acc: 0.5312\n",
      "Epoch 2/60\n",
      "1/1 [==============================] - 8s 8s/step - loss: 0.7158 - acc: 0.5000\n",
      "Epoch 3/60\n",
      "1/1 [==============================] - 9s 9s/step - loss: 0.7528 - acc: 0.5000\n",
      "Epoch 4/60\n",
      "1/1 [==============================] - 9s 9s/step - loss: 0.7116 - acc: 0.4688\n",
      "Epoch 5/60\n",
      "1/1 [==============================] - 8s 8s/step - loss: 0.6169 - acc: 0.6250\n",
      "Epoch 6/60\n",
      "1/1 [==============================] - 8s 8s/step - loss: 0.6282 - acc: 0.6562\n",
      "Epoch 7/60\n",
      "1/1 [==============================] - 8s 8s/step - loss: 0.5700 - acc: 0.7188\n",
      "Epoch 8/60\n",
      "1/1 [==============================] - 8s 8s/step - loss: 0.6178 - acc: 0.7500\n",
      "Epoch 9/60\n",
      "1/1 [==============================] - 10s 10s/step - loss: 0.6634 - acc: 0.5625\n",
      "Epoch 10/60\n",
      "1/1 [==============================] - 8s 8s/step - loss: 0.6472 - acc: 0.5938\n",
      "Epoch 11/60\n",
      "1/1 [==============================] - 8s 8s/step - loss: 0.6712 - acc: 0.6562\n",
      "Epoch 12/60\n",
      "1/1 [==============================] - 8s 8s/step - loss: 0.5870 - acc: 0.7500\n",
      "Epoch 13/60\n",
      "1/1 [==============================] - 8s 8s/step - loss: 0.6005 - acc: 0.6250\n",
      "Epoch 14/60\n",
      "1/1 [==============================] - 6s 6s/step - loss: 0.5719 - acc: 0.8438\n",
      "Epoch 15/60\n",
      "1/1 [==============================] - 6s 6s/step - loss: 0.6324 - acc: 0.6562\n",
      "Epoch 16/60\n",
      "1/1 [==============================] - 6s 6s/step - loss: 0.5609 - acc: 0.7812\n",
      "Epoch 17/60\n",
      "1/1 [==============================] - 3s 3s/step - loss: 0.6459 - acc: 0.6667\n",
      "Epoch 18/60\n",
      "1/1 [==============================] - 6s 6s/step - loss: 0.6500 - acc: 0.6875\n",
      "Epoch 19/60\n",
      "1/1 [==============================] - 7s 7s/step - loss: 0.5270 - acc: 0.8438\n",
      "Epoch 20/60\n",
      "1/1 [==============================] - 6s 6s/step - loss: 0.5724 - acc: 0.7812\n",
      "Epoch 21/60\n",
      "1/1 [==============================] - 6s 6s/step - loss: 0.5776 - acc: 0.8125\n",
      "Epoch 22/60\n",
      "1/1 [==============================] - 5s 5s/step - loss: 0.6377 - acc: 0.6562\n",
      "Epoch 23/60\n",
      "1/1 [==============================] - 6s 6s/step - loss: 0.5201 - acc: 0.8438\n",
      "Epoch 24/60\n",
      "1/1 [==============================] - 5s 5s/step - loss: 0.5106 - acc: 0.8750\n",
      "Epoch 25/60\n",
      "1/1 [==============================] - 6s 6s/step - loss: 0.5772 - acc: 0.7500\n",
      "Epoch 26/60\n",
      "1/1 [==============================] - 7s 7s/step - loss: 0.5074 - acc: 0.8438\n",
      "Epoch 27/60\n",
      "1/1 [==============================] - 7s 7s/step - loss: 0.5246 - acc: 0.7812\n",
      "Epoch 28/60\n",
      "1/1 [==============================] - 5s 5s/step - loss: 0.5532 - acc: 0.7188\n",
      "Epoch 29/60\n",
      "1/1 [==============================] - 5s 5s/step - loss: 0.5303 - acc: 0.8438\n",
      "Epoch 30/60\n",
      "1/1 [==============================] - 5s 5s/step - loss: 0.5851 - acc: 0.8125\n",
      "Epoch 31/60\n",
      "1/1 [==============================] - 6s 6s/step - loss: 0.5397 - acc: 0.7500\n",
      "Epoch 32/60\n",
      "1/1 [==============================] - 6s 6s/step - loss: 0.5694 - acc: 0.7812\n",
      "Epoch 33/60\n",
      "1/1 [==============================] - 7s 7s/step - loss: 0.5183 - acc: 0.8438\n",
      "Epoch 34/60\n",
      "1/1 [==============================] - 5s 5s/step - loss: 0.5434 - acc: 0.8438\n",
      "Epoch 35/60\n",
      "1/1 [==============================] - 5s 5s/step - loss: 0.4932 - acc: 0.9375\n",
      "Epoch 36/60\n",
      "1/1 [==============================] - 6s 6s/step - loss: 0.5128 - acc: 0.8438\n",
      "Epoch 37/60\n",
      "1/1 [==============================] - 6s 6s/step - loss: 0.5425 - acc: 0.7812\n",
      "Epoch 38/60\n",
      "1/1 [==============================] - 6s 6s/step - loss: 0.4965 - acc: 0.9062\n",
      "Epoch 39/60\n",
      "1/1 [==============================] - 5s 5s/step - loss: 0.5093 - acc: 0.7812\n",
      "Epoch 40/60\n",
      "1/1 [==============================] - 5s 5s/step - loss: 0.4748 - acc: 0.9062\n",
      "Epoch 41/60\n",
      "1/1 [==============================] - 6s 6s/step - loss: 0.4745 - acc: 0.8750\n",
      "Epoch 42/60\n",
      "1/1 [==============================] - 6s 6s/step - loss: 0.5146 - acc: 0.8125\n",
      "Epoch 43/60\n",
      "1/1 [==============================] - 5s 5s/step - loss: 0.4900 - acc: 0.9375\n",
      "Epoch 44/60\n",
      "1/1 [==============================] - 6s 6s/step - loss: 0.4613 - acc: 0.9062\n",
      "Epoch 45/60\n",
      "1/1 [==============================] - 6s 6s/step - loss: 0.5052 - acc: 0.8438\n",
      "Epoch 46/60\n",
      "1/1 [==============================] - 6s 6s/step - loss: 0.4870 - acc: 0.7812\n",
      "Epoch 47/60\n",
      "1/1 [==============================] - 2s 2s/step - loss: 0.5051 - acc: 0.9167\n",
      "Epoch 48/60\n",
      "1/1 [==============================] - 6s 6s/step - loss: 0.4797 - acc: 0.8750\n",
      "Epoch 49/60\n",
      "1/1 [==============================] - 2s 2s/step - loss: 0.5212 - acc: 0.7500\n",
      "Epoch 50/60\n",
      "1/1 [==============================] - 6s 6s/step - loss: 0.4953 - acc: 0.8438\n",
      "Epoch 51/60\n",
      "1/1 [==============================] - 6s 6s/step - loss: 0.4825 - acc: 0.7812\n",
      "Epoch 52/60\n",
      "1/1 [==============================] - 7s 7s/step - loss: 0.4860 - acc: 0.8438\n",
      "Epoch 53/60\n",
      "1/1 [==============================] - 6s 6s/step - loss: 0.4703 - acc: 0.8750\n",
      "Epoch 54/60\n",
      "1/1 [==============================] - 6s 6s/step - loss: 0.5126 - acc: 0.8125\n",
      "Epoch 55/60\n",
      "1/1 [==============================] - 7s 7s/step - loss: 0.4917 - acc: 0.8438\n",
      "Epoch 56/60\n",
      "1/1 [==============================] - 6s 6s/step - loss: 0.4446 - acc: 0.9375\n",
      "Epoch 57/60\n",
      "1/1 [==============================] - 7s 7s/step - loss: 0.4487 - acc: 0.9375\n",
      "Epoch 58/60\n",
      "1/1 [==============================] - 7s 7s/step - loss: 0.4793 - acc: 0.8438\n",
      "Epoch 59/60\n",
      "1/1 [==============================] - 8s 8s/step - loss: 0.4893 - acc: 0.8750\n",
      "Epoch 60/60\n",
      "1/1 [==============================] - 7s 7s/step - loss: 0.4734 - acc: 0.9062\n"
     ]
    }
   ],
   "source": [
    "history = model.fit(train_generator,\n",
    "                    steps_per_epoch=len(train_generator)//32,\n",
    "                    epochs=60,\n",
    "                    validation_data=val_generator,\n",
    "                    validation_steps=len(val_generator)//32)"
   ]
  },
  {
   "cell_type": "code",
   "execution_count": 28,
   "metadata": {},
   "outputs": [
    {
     "output_type": "stream",
     "name": "stdout",
     "text": [
      "6/9 [===================>..........] - ETA: 14s - loss: 0.3928 - acc: 0.9257WARNING:tensorflow:Your input ran out of data; interrupting training. Make sure that your dataset or generator can generate at least `steps_per_epoch * epochs` batches (in this case, 9 batches). You may need to use the repeat() function when building your dataset.\n",
      "9/9 [==============================] - 32s 3s/step - loss: 0.3928 - acc: 0.9257\n",
      "Test ACC:  0.93\n"
     ]
    }
   ],
   "source": [
    "test_loss, test_acc = model.evaluate(test_generator, steps = 9)\n",
    "print(\"Test ACC: \", round(test_acc, 2))"
   ]
  },
  {
   "cell_type": "code",
   "execution_count": 31,
   "metadata": {},
   "outputs": [],
   "source": [
    "checkpoint = tf.keras.callbacks.ModelCheckpoint('model-{epoch:03d}.model', monitor='val_loss', verbose=0,\n",
    "save_best_only=True, mode='auto')\n"
   ]
  },
  {
   "cell_type": "code",
   "execution_count": null,
   "metadata": {},
   "outputs": [],
   "source": []
  }
 ]
}